{
 "cells": [
  {
   "cell_type": "code",
   "execution_count": 1,
   "metadata": {
    "collapsed": false
   },
   "outputs": [],
   "source": [
    "import pandas as pd\n",
    "import numpy as np\n",
    "import matplotlib.pylab as plt\n",
    "import seaborn as sns\n",
    "import sqlite3\n",
    "%matplotlib inline"
   ]
  },
  {
   "cell_type": "markdown",
   "metadata": {},
   "source": [
    "## Perform query on SQLite database"
   ]
  },
  {
   "cell_type": "code",
   "execution_count": 2,
   "metadata": {
    "collapsed": false
   },
   "outputs": [],
   "source": [
    "conn = sqlite3.connect(\"/home/luciano/python/load_profiling/dataport\")\n",
    "cursor = conn.cursor()\n",
    "query = \"SELECT * FROM new_table;\"\n",
    "cursor.execute(query)\n",
    "data = cursor.fetchall()"
   ]
  },
  {
   "cell_type": "markdown",
   "metadata": {},
   "source": [
    "## Load result into a pandas Dataframe "
   ]
  },
  {
   "cell_type": "code",
   "execution_count": 3,
   "metadata": {
    "collapsed": false
   },
   "outputs": [
    {
     "data": {
      "text/html": [
       "<div>\n",
       "<table border=\"1\" class=\"dataframe\">\n",
       "  <thead>\n",
       "    <tr style=\"text-align: right;\">\n",
       "      <th></th>\n",
       "      <th>id</th>\n",
       "      <th>date</th>\n",
       "      <th>energy_use</th>\n",
       "    </tr>\n",
       "  </thead>\n",
       "  <tbody>\n",
       "    <tr>\n",
       "      <th>0</th>\n",
       "      <td>26</td>\n",
       "      <td>2015-08-01 00:00:00</td>\n",
       "      <td>1.4090666666666667</td>\n",
       "    </tr>\n",
       "    <tr>\n",
       "      <th>1</th>\n",
       "      <td>26</td>\n",
       "      <td>2015-07-31 23:45:00</td>\n",
       "      <td>3.1387333333333333</td>\n",
       "    </tr>\n",
       "    <tr>\n",
       "      <th>2</th>\n",
       "      <td>26</td>\n",
       "      <td>2015-07-31 23:30:00</td>\n",
       "      <td>4.2021333333333333</td>\n",
       "    </tr>\n",
       "    <tr>\n",
       "      <th>3</th>\n",
       "      <td>26</td>\n",
       "      <td>2015-07-31 23:15:00</td>\n",
       "      <td>4.2418000000000000</td>\n",
       "    </tr>\n",
       "    <tr>\n",
       "      <th>4</th>\n",
       "      <td>26</td>\n",
       "      <td>2015-07-31 23:00:00</td>\n",
       "      <td>4.2857333333333333</td>\n",
       "    </tr>\n",
       "  </tbody>\n",
       "</table>\n",
       "</div>"
      ],
      "text/plain": [
       "   id                 date          energy_use\n",
       "0  26  2015-08-01 00:00:00  1.4090666666666667\n",
       "1  26  2015-07-31 23:45:00  3.1387333333333333\n",
       "2  26  2015-07-31 23:30:00  4.2021333333333333\n",
       "3  26  2015-07-31 23:15:00  4.2418000000000000\n",
       "4  26  2015-07-31 23:00:00  4.2857333333333333"
      ]
     },
     "execution_count": 3,
     "metadata": {},
     "output_type": "execute_result"
    }
   ],
   "source": [
    "df = pd.DataFrame(data, columns=['id','date','energy_use'])\n",
    "df.head() \n",
    "# id is the id of the house in the study and energy_use in the amount of energy consumed during a 15 minute interval"
   ]
  },
  {
   "cell_type": "markdown",
   "metadata": {},
   "source": [
    "## Data wrangling"
   ]
  },
  {
   "cell_type": "markdown",
   "metadata": {
    "collapsed": true
   },
   "source": [
    "### Count the amount of missing  values"
   ]
  },
  {
   "cell_type": "code",
   "execution_count": 102,
   "metadata": {
    "collapsed": false
   },
   "outputs": [],
   "source": [
    "def count_empty_strings(data):\n",
    "    \"\"\"returns the percentage of empty strings in a dataframe column\"\"\"\n",
    "    empty = 0\n",
    "    not_empty=0\n",
    "    \n",
    "    for row in data:\n",
    "        if row == \"\":\n",
    "            empty += 1\n",
    "        else:\n",
    "            not_empty += 1\n",
    "            \n",
    "    print(\"there are\",str(round(empty/not_empty*100))+\"%\",\"of missing values\")"
   ]
  },
  {
   "cell_type": "code",
   "execution_count": 103,
   "metadata": {
    "collapsed": false
   },
   "outputs": [
    {
     "name": "stdout",
     "output_type": "stream",
     "text": [
      "there are 2% of missing values\n"
     ]
    }
   ],
   "source": [
    "count_empty_strings(df.energy_use)"
   ]
  },
  {
   "cell_type": "markdown",
   "metadata": {},
   "source": [
    "### Filter out empty strings "
   ]
  },
  {
   "cell_type": "code",
   "execution_count": 105,
   "metadata": {
    "collapsed": false
   },
   "outputs": [
    {
     "name": "stdout",
     "output_type": "stream",
     "text": [
      "there are 0% of missing values\n"
     ]
    }
   ],
   "source": [
    "df2 = df[df['energy_use']!=\"\"]\n",
    "count_empty_strings(df2.energy_use) # how many empty values do we have now?"
   ]
  },
  {
   "cell_type": "markdown",
   "metadata": {},
   "source": [
    "### Trasform data types"
   ]
  },
  {
   "cell_type": "code",
   "execution_count": 106,
   "metadata": {
    "collapsed": false
   },
   "outputs": [
    {
     "data": {
      "text/plain": [
       "id                    object\n",
       "date          datetime64[ns]\n",
       "energy_use           float64\n",
       "dtype: object"
      ]
     },
     "execution_count": 106,
     "metadata": {},
     "output_type": "execute_result"
    }
   ],
   "source": [
    "df2 = df2.copy()\n",
    "df2.loc[:,'energy_use'] = df2.energy_use.astype(float) # transfrom load consumption values into into float\n",
    "\n",
    "df2.loc[:,'date'] = pd.to_datetime(df2.date) # transforms date column into datetime\n",
    "df2.dtypes"
   ]
  },
  {
   "cell_type": "markdown",
   "metadata": {},
   "source": [
    "### Create columns with information about the date of the measurement "
   ]
  },
  {
   "cell_type": "markdown",
   "metadata": {},
   "source": [
    "This will be usefull later"
   ]
  },
  {
   "cell_type": "code",
   "execution_count": 8,
   "metadata": {
    "collapsed": false
   },
   "outputs": [],
   "source": [
    "# create a column that contains info if the observation is on a weekday or a weekend\n",
    "df2['type_day'] = df2.date.apply(lambda x: x.isoweekday()) \n",
    "\n",
    "# create a column of the day of the month for a particular observation\n",
    "df2['day_of_month'] = df2.date.apply(lambda x: x.day) \n",
    "\n",
    "# create a column of the month of the year for a particular observation\n",
    "df2['month'] = df2.date.apply(lambda x: x.month) \n",
    "\n",
    "# sort values \n",
    "df2.sort_values(['id', 'date'], ascending=[True, True],inplace=True)\n",
    "\n",
    "df2.reset_index(inplace=True)"
   ]
  },
  {
   "cell_type": "markdown",
   "metadata": {},
   "source": [
    "### Filter out the weekends"
   ]
  },
  {
   "cell_type": "code",
   "execution_count": 10,
   "metadata": {
    "collapsed": false
   },
   "outputs": [],
   "source": [
    "df3 = df2[(df2['type_day'] != 6) & (df2['type_day'] != 7)] # select only weekdays\n",
    "\n",
    "df3 = df3.copy()\n",
    "# transfrom id column to integer\n",
    "df3.loc[:,'id'] = df3['id'].astype(int) "
   ]
  },
  {
   "cell_type": "markdown",
   "metadata": {},
   "source": [
    "###  How many different housholds in the dataset"
   ]
  },
  {
   "cell_type": "code",
   "execution_count": 108,
   "metadata": {
    "collapsed": false
   },
   "outputs": [
    {
     "name": "stdout",
     "output_type": "stream",
     "text": [
      "there are 216 different households\n"
     ]
    }
   ],
   "source": [
    "households = np.unique(df3['id'])   \n",
    "print(\"there are\",np.count_nonzero(households),\"different households\") "
   ]
  },
  {
   "cell_type": "markdown",
   "metadata": {},
   "source": [
    "###  Create function to extract daily loads from the time-series"
   ]
  },
  {
   "cell_type": "code",
   "execution_count": 31,
   "metadata": {
    "collapsed": false
   },
   "outputs": [],
   "source": [
    "def extract_daily_load():\n",
    "     \"\"\"parses the time-series to extract load measurements from one particular day for one particular house\"\"\"\n",
    "\n",
    "    load_data =[]\n",
    "    for house in households:\n",
    "        data_one_house = df3[df3['id'] == house]\n",
    "\n",
    "        for month in range(7,8):\n",
    "            for day in range(1,31):\n",
    "\n",
    "                one_day_load = (data_one_house[data_one_house['month'] == month]\n",
    "                                [data_one_house['day_of_month'] == day])\n",
    "                if len(one_day_load) == 96: # only grab daily loads with 96 observations\n",
    "                    load_data.append(one_day_load.energy_use)\n",
    "\n",
    "    return load_data"
   ]
  },
  {
   "cell_type": "code",
   "execution_count": 111,
   "metadata": {
    "collapsed": false
   },
   "outputs": [],
   "source": [
    "load_data = extract_daily_load()"
   ]
  },
  {
   "cell_type": "markdown",
   "metadata": {},
   "source": [
    "### Transform list of lists into numpy array "
   ]
  },
  {
   "cell_type": "code",
   "execution_count": 114,
   "metadata": {
    "collapsed": false
   },
   "outputs": [
    {
     "name": "stdout",
     "output_type": "stream",
     "text": [
      "There are 4702 day-loads in the dataset. Each containing 96 load measurements.\n"
     ]
    }
   ],
   "source": [
    "load_data_np = np.array(load_data) # transform list of lists into numpy array\n",
    "\n",
    "print(\"There are\",load_data_np.shape[0],\"day-loads in the dataset. Each containing\",\n",
    "      load_data_np.shape[1] ,\"load measurements.\")"
   ]
  },
  {
   "cell_type": "markdown",
   "metadata": {},
   "source": [
    "## Feature scaling"
   ]
  },
  {
   "cell_type": "markdown",
   "metadata": {},
   "source": [
    "Feature scaling is a method used to standardize the range of independent variables or features of data.\n",
    "The data wil be scaled into values between 0 and 1. "
   ]
  },
  {
   "cell_type": "code",
   "execution_count": 115,
   "metadata": {
    "collapsed": false
   },
   "outputs": [
    {
     "data": {
      "text/plain": [
       "array([[ 0.11147564,  0.06560344,  0.09231645, ...,  0.07030605,\n",
       "         0.0588418 ,  0.06499733],\n",
       "       [ 0.06576745,  0.18083175,  0.19926599, ...,  0.08561315,\n",
       "         0.10601603,  0.10364425],\n",
       "       [ 0.09158232,  0.25390767,  0.28414421, ...,  0.10629959,\n",
       "         0.11940929,  0.20343974],\n",
       "       ..., \n",
       "       [ 0.09023112,  0.02099048,  0.009024  , ...,  0.0616991 ,\n",
       "         0.00352267,  0.00353531],\n",
       "       [ 0.01107029,  0.00913638,  0.00419602, ...,  0.00163301,\n",
       "         0.10122072,  0.10494944],\n",
       "       [ 0.05024061,  0.00283369,  0.00359547, ...,  0.09413844,\n",
       "         0.04716914,  0.00976835]])"
      ]
     },
     "execution_count": 115,
     "metadata": {},
     "output_type": "execute_result"
    }
   ],
   "source": [
    "from sklearn.preprocessing import scale, MinMaxScaler\n",
    "min_max_scaler = MinMaxScaler()\n",
    "load_data_scaled = min_max_scaler.fit_transform(load_data)\n",
    "load_data_scaled                                                "
   ]
  },
  {
   "cell_type": "markdown",
   "metadata": {},
   "source": [
    "## Perform cluster analysis with K-Means Clustering"
   ]
  },
  {
   "cell_type": "code",
   "execution_count": 88,
   "metadata": {
    "collapsed": false
   },
   "outputs": [],
   "source": [
    "from sklearn.cluster import KMeans\n",
    "model = KMeans(n_clusters=6)\n",
    "prediction = model.fit_predict(load_data_scaled)"
   ]
  },
  {
   "cell_type": "markdown",
   "metadata": {},
   "source": [
    "### Create function to count how many daily-loads are in each cluster "
   ]
  },
  {
   "cell_type": "code",
   "execution_count": 127,
   "metadata": {
    "collapsed": false
   },
   "outputs": [
    {
     "data": {
      "text/plain": [
       "{'0': 498, '1': 1390, '2': 935, '3': 155, '4': 1279, '5': 445}"
      ]
     },
     "execution_count": 127,
     "metadata": {},
     "output_type": "execute_result"
    }
   ],
   "source": [
    "def count_load_in_cluster():\n",
    "\n",
    "    count_list = {}\n",
    "    clusters = [\"0\",\"1\",\"2\",\"3\",\"4\",\"5\"]\n",
    "    for cluster in clusters:\n",
    "        count = 0\n",
    "        for cluster_prediction in prediction:\n",
    "            if cluster_prediction == int(cluster):\n",
    "                count += 1 \n",
    "\n",
    "        count_list[cluster] = count\n",
    "        \n",
    "    return count_list\n",
    "\n",
    "count_load_in_cluster()"
   ]
  },
  {
   "cell_type": "code",
   "execution_count": 131,
   "metadata": {
    "collapsed": false
   },
   "outputs": [
    {
     "data": {
      "image/png": "[encoded data removed]",
      "text/plain": [
       "<matplotlib.figure.Figure at 0x7fc29c7678d0>"
      ]
     },
     "metadata": {},
     "output_type": "display_data"
    }
   ],
   "source": [
    "fig = plt.figure()\n",
    "\n",
    "for x,y in zip(load_data_scaled,prediction):\n",
    "        if y == 0:\n",
    "            fig.add_subplot(421)\n",
    "            plt.plot(x,alpha=0.01,color=\"blue\")\n",
    "            plt.ylim(0,0.8)\n",
    "        \n",
    "for x,y in zip(load_data_scaled,prediction):\n",
    "        if y == 1:\n",
    "            fig.add_subplot(422)\n",
    "            plt.plot(x,alpha=0.007,color=\"blue\")\n",
    "            plt.ylim(0,0.5)\n",
    "\n",
    "for x,y in zip(load_data_scaled,prediction):\n",
    "        if y == 2:\n",
    "            fig.add_subplot(423)            \n",
    "            plt.plot(x,alpha=0.01,color=\"blue\")\n",
    "            plt.ylim(0,0.75)\n",
    "\n",
    "\n",
    "for x,y in zip(load_data_scaled,prediction):\n",
    "       if y == 3:\n",
    "            fig.add_subplot(424)\n",
    "            plt.plot(x,alpha=0.05,color=\"blue\")\n",
    "            plt.ylim(0,1)\n",
    "            \n",
    "for x,y in zip(load_data_scaled,prediction):\n",
    "       if y == 4:\n",
    "            fig.add_subplot(425)\n",
    "            plt.plot(x,alpha=0.02,color=\"blue\")\n",
    "            plt.ylim(0,0.75)\n",
    "for x,y in zip(load_data_scaled,prediction):\n",
    "       if y == 5:\n",
    "            fig.add_subplot(426)\n",
    "            plt.plot(x,alpha=0.02,color=\"blue\")\n",
    "plt.show()\n",
    "\n",
    "#for x,y in zip(load_data_scaled,prediction):\n",
    "#       if y == 6:\n",
    "#            plt.plot(x,alpha=0.002,color=\"blue\")\n",
    "#plt.show()"
   ]
  },
  {
   "cell_type": "code",
   "execution_count": 35,
   "metadata": {
    "collapsed": false
   },
   "outputs": [
    {
     "data": {
      "image/png": "[encoded data removed]",
      "text/plain": [
       "<matplotlib.figure.Figure at 0x7ff4ae3a85c0>"
      ]
     },
     "metadata": {},
     "output_type": "display_data"
    }
   ],
   "source": [
    "house_101 = df3[df3['id'] == 101]\n",
    "house_101_day_1 = house_101[(house_101['day_of_month']==1) & (house_101['type_day']==3)]\n",
    "house_994 = df3[df3['id'] == 994]\n",
    "house_994_day_1 = house_994[(house_994['day_of_month']==1) & (house_994['type_day']==3)]\n",
    "house_1350 = df3[df3['id'] == 1350]\n",
    "house_1350_day_1 = house_1350[(house_1350['day_of_month']==1) & (house_1350['type_day']==3)]\n",
    "plt.plot(house_101_day_1.energy_use.values)\n",
    "plt.plot(house_994_day_1.energy_use.values)\n",
    "plt.plot(house_1350_day_1.energy_use.values)\n",
    "plt.show()"
   ]
  }
 ],
 "metadata": {
  "kernelspec": {
   "display_name": "Python 3",
   "language": "python",
   "name": "python3"
  },
  "language_info": {
   "codemirror_mode": {
    "name": "ipython",
    "version": 3
   },
   "file_extension": ".py",
   "mimetype": "text/x-python",
   "name": "python",
   "nbconvert_exporter": "python",
   "pygments_lexer": "ipython3",
   "version": "3.5.1"
  }
 },
 "nbformat": 4,
 "nbformat_minor": 0
}
